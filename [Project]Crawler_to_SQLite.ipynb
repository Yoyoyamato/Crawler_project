{
 "cells": [
  {
   "cell_type": "markdown",
   "metadata": {},
   "source": [
    "## Web Crawler to SQLite3"
   ]
  },
  {
   "cell_type": "markdown",
   "metadata": {},
   "source": [
    "### About this project\n",
    "- This project is mix of using web-crawling, data cleaning, and storing data into a database\n",
    "- Here, I will be using the following libraries:\n",
    "    - aaa\n",
    "    - bbb\n",
    "- I will also be commenting on places where you can  change the variables to adjust to your needs\n",
    "\n",
    "#### Steps\n",
    "- Create a funtions that stores your \"keyword\"\n",
    "- Use the yahoo search engine to search your \"keyword\"\n",
    "    - get the first n pages and m web-pages\n",
    "- Dig deep into each of the web-pages\n",
    "    - extract each sentence or statement that the \"keyword\" is being used\n",
    "    - extract the order (as ranks) of the sentence or statement from first to n-th \n",
    "    - image should be like the one below\n",
    "\n",
    "|keyword|rank|url|ranks|sentence|\n",
    "|:--|:--|:--|:--|:--|\n",
    "|Hello|1|https://xxx |1|Hello, world ...|\n",
    "|Hello|2|https://xxx |2|James said \"Hello...|\n",
    "|Hello|2|https://xxx |3|Konichiwa is hello in...|\n",
    "|...|...|...|...|...|\n",
    "|...|...|...|...|...|\n",
    "|Second|1|https://yyy |1|Secondly, ...|\n",
    "\n",
    "- Store the data above into a database using SQLite3\n",
    "    - write SQL to analyze the data"
   ]
  },
  {
   "cell_type": "code",
   "execution_count": null,
   "metadata": {},
   "outputs": [],
   "source": [
    "import numpy as np\n",
    "import pandas as pd"
   ]
  }
 ],
 "metadata": {
  "kernelspec": {
   "display_name": "Python 3",
   "language": "python",
   "name": "python3"
  },
  "language_info": {
   "codemirror_mode": {
    "name": "ipython",
    "version": 3
   },
   "file_extension": ".py",
   "mimetype": "text/x-python",
   "name": "python",
   "nbconvert_exporter": "python",
   "pygments_lexer": "ipython3",
   "version": "3.7.3"
  }
 },
 "nbformat": 4,
 "nbformat_minor": 2
}
