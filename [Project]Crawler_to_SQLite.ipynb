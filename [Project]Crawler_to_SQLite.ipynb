{
 "cells": [
  {
   "cell_type": "markdown",
   "metadata": {},
   "source": [
    "## Web Crawler to SQLite3 on eBay"
   ]
  },
  {
   "cell_type": "markdown",
   "metadata": {},
   "source": [
    "### About this project\n",
    "- This project is mix of using web-crawling, data cleaning, and storing data into a database\n",
    "- Here, I will be using the following libraries:\n",
    "    - pandas\n",
    "    - re\n",
    "    - beautifulsoup\n",
    "    - requests\n",
    "    - sqlite3\n",
    "- I will also be commenting on places where you can  change the variables to adjust to your needs\n",
    "\n",
    "#### Steps\n",
    "- Create a funtions that stores your \"keyword\" (item you want on eBay)\n",
    "- Use the search engine on ebay website to search your \"keyword\"\n",
    "    - get the first n pages\n",
    "- Extract the items' information\n",
    "    - title of the item\n",
    "    - price\n",
    "    - condition \n",
    "    - shipping information\n",
    "    - returning policy\n",
    "\n",
    "|keyword|rank|item_title|price|condition|shipping_info|return|\n",
    "|:--|:--|:--|:--|:--|:--|:--|\n",
    "|starwars|1||The Black Series Princess|9.99|brand new|free shipping|null|\n",
    "|starwars|2|Luke Skywalker & Ysalamiri |19.99|brand new|free shipping|free return|\n",
    "|starwars|3|The Black Series Luke Skywalker|25.99|brand new|5.99 shipping|null|\n",
    "|...|...|...|...|...|...|...|\n",
    "|...|...|...|...|...|...|...|\n",
    "|lego|1|100p lego |19.99|pre-owned|free shipping|null|\n",
    "\n",
    "- Store the data above into a database using SQLite3\n",
    "    - write SQL to analyze the data"
   ]
  },
  {
   "cell_type": "markdown",
   "metadata": {},
   "source": [
    "## All the importing libraries"
   ]
  },
  {
   "cell_type": "code",
   "execution_count": 30,
   "metadata": {},
   "outputs": [],
   "source": [
    "import numpy as np\n",
    "import pandas as pd\n",
    "from bs4 import BeautifulSoup\n",
    "import requests\n",
    "import sqlite3\n",
    "import re"
   ]
  },
  {
   "cell_type": "markdown",
   "metadata": {},
   "source": [
    "## STEP 1\n",
    "#### Making a list of keywords"
   ]
  },
  {
   "cell_type": "code",
   "execution_count": 10,
   "metadata": {},
   "outputs": [
    {
     "name": "stdout",
     "output_type": "stream",
     "text": [
      "Type in words that you want to search: Type in words that you want\n"
     ]
    }
   ],
   "source": [
    "keyword = input('Type in words that you want to search: ')\n",
    "keys = keyword.split(' ')"
   ]
  },
  {
   "cell_type": "code",
   "execution_count": 11,
   "metadata": {},
   "outputs": [
    {
     "data": {
      "text/plain": [
       "['Type', 'in', 'words', 'that', 'you', 'want']"
      ]
     },
     "execution_count": 11,
     "metadata": {},
     "output_type": "execute_result"
    }
   ],
   "source": [
    "keys"
   ]
  },
  {
   "cell_type": "markdown",
   "metadata": {},
   "source": [
    "## STEP 2\n",
    "#### Create a web crawler on Yahoo search engine to extract information"
   ]
  },
  {
   "cell_type": "code",
   "execution_count": 140,
   "metadata": {},
   "outputs": [],
   "source": [
    "\n",
    "keywords = [\"starwars\"]\n",
    "\n",
    "title_box = []\n",
    "price_box = []\n",
    "condition_box = []\n",
    "shipping_box = []\n",
    "return_box = []\n",
    "\n",
    "for k in keywords:\n",
    "    for pn in range(1, 4):\n",
    "        URL = 'https://www.ebay.com/sch/i.html?_from=R40&_nkw={0}&_pgn={1}'.format(k,pn)\n",
    "        res = requests.get(URL)\n",
    "        if res.status_code != 200:\n",
    "            continue\n",
    "        res.coding = 'utf-8'\n",
    "        soup = BeautifulSoup(res.text, 'html.parser')\n",
    "        elms = soup.find_all('div', {'class': 's-item__info clearfix'})\n",
    "        for i, elm in enumerate(elms):\n",
    "            title = elm.find_all('h3', {'class': 's-item__title'})[0].get_text()\n",
    "            title_box.append({'page': pn, 'index': i, 'title': title})\n",
    "            try:\n",
    "                price = elm.find_all('span', {'class': 's-item__price'})[0].get_text()\n",
    "            except:\n",
    "                continue\n",
    "            price_box.append({'page': pn, 'index': i, 'price': price})\n",
    "            try:\n",
    "                cond = elm.find_all('span', {'class': 'SECONDARY_INFO'})[0].get_text()\n",
    "            except:\n",
    "                continue\n",
    "            condition_box.append({'page': pn, 'index': i, 'condition': cond})\n",
    "            try:\n",
    "                ship = elm.find_all('span', {'class': 's-item__shipping s-item__logisticsCost'})[0].get_text()\n",
    "            except:\n",
    "                continue\n",
    "            shipping_box.append({'page': pn, 'index': i, 'shipping': ship})\n",
    "            try:\n",
    "                r = elm.find_all('span', {'class': 's-item__free-returns s-item__freeReturnsNoFee'})[0].get_text()\n",
    "            except:\n",
    "                continue\n",
    "            return_box.append({'page': pn, 'index': i, 'return': r})\n",
    "            "
   ]
  },
  {
   "cell_type": "markdown",
   "metadata": {},
   "source": [
    "## STEP 3\n",
    "#### From the dictionaries we made from above, store it in a data frame"
   ]
  },
  {
   "cell_type": "code",
   "execution_count": 135,
   "metadata": {},
   "outputs": [],
   "source": [
    "# functions for all 5 description \n",
    "def todf(x):\n",
    "    df = pd.DataFrame.from_dict(x[0], orient = 'index').T\n",
    "    for k in range(1, len(x)):\n",
    "        df = df.append(x[k], ignore_index = True)\n",
    "    return df"
   ]
  },
  {
   "cell_type": "code",
   "execution_count": 141,
   "metadata": {},
   "outputs": [],
   "source": [
    "title_df = todf(title_box)\n",
    "price_df = todf(price_box)\n",
    "cond_df = todf(condition_box)\n",
    "ship_df = todf(shipping_box)\n",
    "r_df = todf(return_box)"
   ]
  },
  {
   "cell_type": "code",
   "execution_count": 148,
   "metadata": {
    "scrolled": true
   },
   "outputs": [
    {
     "data": {
      "text/html": [
       "<div>\n",
       "<style scoped>\n",
       "    .dataframe tbody tr th:only-of-type {\n",
       "        vertical-align: middle;\n",
       "    }\n",
       "\n",
       "    .dataframe tbody tr th {\n",
       "        vertical-align: top;\n",
       "    }\n",
       "\n",
       "    .dataframe thead th {\n",
       "        text-align: right;\n",
       "    }\n",
       "</style>\n",
       "<table border=\"1\" class=\"dataframe\">\n",
       "  <thead>\n",
       "    <tr style=\"text-align: right;\">\n",
       "      <th></th>\n",
       "      <th>page</th>\n",
       "      <th>index</th>\n",
       "      <th>title</th>\n",
       "      <th>price</th>\n",
       "      <th>condition</th>\n",
       "      <th>shipping</th>\n",
       "      <th>return</th>\n",
       "      <th>keyword</th>\n",
       "    </tr>\n",
       "  </thead>\n",
       "  <tbody>\n",
       "    <tr>\n",
       "      <th>0</th>\n",
       "      <td>1</td>\n",
       "      <td>0</td>\n",
       "      <td></td>\n",
       "      <td>NaN</td>\n",
       "      <td>NaN</td>\n",
       "      <td>NaN</td>\n",
       "      <td>NaN</td>\n",
       "      <td>starwars</td>\n",
       "    </tr>\n",
       "    <tr>\n",
       "      <th>1</th>\n",
       "      <td>1</td>\n",
       "      <td>1</td>\n",
       "      <td>Star Wars The Black Series Princess Leia Organ...</td>\n",
       "      <td>$9.99</td>\n",
       "      <td>Brand New</td>\n",
       "      <td>Free shipping</td>\n",
       "      <td>NaN</td>\n",
       "      <td>starwars</td>\n",
       "    </tr>\n",
       "    <tr>\n",
       "      <th>2</th>\n",
       "      <td>1</td>\n",
       "      <td>2</td>\n",
       "      <td>Star Wars The Black Series Luke Skywalker &amp; Ys...</td>\n",
       "      <td>$26.36</td>\n",
       "      <td>Brand New</td>\n",
       "      <td>NaN</td>\n",
       "      <td>NaN</td>\n",
       "      <td>starwars</td>\n",
       "    </tr>\n",
       "    <tr>\n",
       "      <th>3</th>\n",
       "      <td>1</td>\n",
       "      <td>3</td>\n",
       "      <td>Star Wars The Black Series Luke Skywalker (Dag...</td>\n",
       "      <td>$15.99</td>\n",
       "      <td>Brand New</td>\n",
       "      <td>Free shipping</td>\n",
       "      <td>NaN</td>\n",
       "      <td>starwars</td>\n",
       "    </tr>\n",
       "    <tr>\n",
       "      <th>4</th>\n",
       "      <td>1</td>\n",
       "      <td>4</td>\n",
       "      <td>Star Wars The Vintage Collection The Mandalori...</td>\n",
       "      <td>$59.19</td>\n",
       "      <td>Brand New</td>\n",
       "      <td>Free shipping</td>\n",
       "      <td>NaN</td>\n",
       "      <td>starwars</td>\n",
       "    </tr>\n",
       "    <tr>\n",
       "      <th>...</th>\n",
       "      <td>...</td>\n",
       "      <td>...</td>\n",
       "      <td>...</td>\n",
       "      <td>...</td>\n",
       "      <td>...</td>\n",
       "      <td>...</td>\n",
       "      <td>...</td>\n",
       "      <td>...</td>\n",
       "    </tr>\n",
       "    <tr>\n",
       "      <th>196</th>\n",
       "      <td>3</td>\n",
       "      <td>62</td>\n",
       "      <td>Star Wars The Black Series Bad Batch Wrecker 6...</td>\n",
       "      <td>$44.00</td>\n",
       "      <td>Brand New</td>\n",
       "      <td>+$7.75 shipping</td>\n",
       "      <td>NaN</td>\n",
       "      <td>starwars</td>\n",
       "    </tr>\n",
       "    <tr>\n",
       "      <th>197</th>\n",
       "      <td>3</td>\n",
       "      <td>63</td>\n",
       "      <td>STAR WARS Kid's Mandalorian Baby Yoda The Chil...</td>\n",
       "      <td>$14.99</td>\n",
       "      <td>Brand New</td>\n",
       "      <td>Free shipping</td>\n",
       "      <td>NaN</td>\n",
       "      <td>starwars</td>\n",
       "    </tr>\n",
       "    <tr>\n",
       "      <th>198</th>\n",
       "      <td>3</td>\n",
       "      <td>64</td>\n",
       "      <td>FUNKO POP STAR WARS MANDALORIAN  MANDO FLYING ...</td>\n",
       "      <td>$13.45</td>\n",
       "      <td>Brand New</td>\n",
       "      <td>Free shipping</td>\n",
       "      <td>NaN</td>\n",
       "      <td>starwars</td>\n",
       "    </tr>\n",
       "    <tr>\n",
       "      <th>199</th>\n",
       "      <td>3</td>\n",
       "      <td>65</td>\n",
       "      <td>One-Stop Disney Infinity Shop! Buy 3 Get 2 FRE...</td>\n",
       "      <td>$4.50 to $40.00</td>\n",
       "      <td>Pre-Owned</td>\n",
       "      <td>Free shipping</td>\n",
       "      <td>Free returns</td>\n",
       "      <td>starwars</td>\n",
       "    </tr>\n",
       "    <tr>\n",
       "      <th>200</th>\n",
       "      <td>3</td>\n",
       "      <td>66</td>\n",
       "      <td>Star Wars Vintage Collection The Child Baby Yo...</td>\n",
       "      <td>$17.95</td>\n",
       "      <td>Brand New</td>\n",
       "      <td>NaN</td>\n",
       "      <td>NaN</td>\n",
       "      <td>starwars</td>\n",
       "    </tr>\n",
       "  </tbody>\n",
       "</table>\n",
       "<p>201 rows × 8 columns</p>\n",
       "</div>"
      ],
      "text/plain": [
       "    page index                                              title  \\\n",
       "0      1     0                                                      \n",
       "1      1     1  Star Wars The Black Series Princess Leia Organ...   \n",
       "2      1     2  Star Wars The Black Series Luke Skywalker & Ys...   \n",
       "3      1     3  Star Wars The Black Series Luke Skywalker (Dag...   \n",
       "4      1     4  Star Wars The Vintage Collection The Mandalori...   \n",
       "..   ...   ...                                                ...   \n",
       "196    3    62  Star Wars The Black Series Bad Batch Wrecker 6...   \n",
       "197    3    63  STAR WARS Kid's Mandalorian Baby Yoda The Chil...   \n",
       "198    3    64  FUNKO POP STAR WARS MANDALORIAN  MANDO FLYING ...   \n",
       "199    3    65  One-Stop Disney Infinity Shop! Buy 3 Get 2 FRE...   \n",
       "200    3    66  Star Wars Vintage Collection The Child Baby Yo...   \n",
       "\n",
       "               price  condition         shipping        return   keyword  \n",
       "0                NaN        NaN              NaN           NaN  starwars  \n",
       "1              $9.99  Brand New    Free shipping           NaN  starwars  \n",
       "2             $26.36  Brand New              NaN           NaN  starwars  \n",
       "3             $15.99  Brand New    Free shipping           NaN  starwars  \n",
       "4             $59.19  Brand New    Free shipping           NaN  starwars  \n",
       "..               ...        ...              ...           ...       ...  \n",
       "196           $44.00  Brand New  +$7.75 shipping           NaN  starwars  \n",
       "197           $14.99  Brand New    Free shipping           NaN  starwars  \n",
       "198           $13.45  Brand New    Free shipping           NaN  starwars  \n",
       "199  $4.50 to $40.00  Pre-Owned    Free shipping  Free returns  starwars  \n",
       "200           $17.95  Brand New              NaN           NaN  starwars  \n",
       "\n",
       "[201 rows x 8 columns]"
      ]
     },
     "execution_count": 148,
     "metadata": {},
     "output_type": "execute_result"
    }
   ],
   "source": [
    "DF = pd.merge(title_df, price_df, on=['page', 'index'], how='left')\n",
    "DF = pd.merge(DF, cond_df, on=['page', 'index'], how='left')\n",
    "DF = pd.merge(DF, ship_df, on=['page', 'index'], how='left')\n",
    "DF = pd.merge(DF, r_df, on=['page', 'index'], how='left')\n",
    "DF['keyword'] = keywords[0]\n",
    "DF"
   ]
  },
  {
   "cell_type": "code",
   "execution_count": null,
   "metadata": {},
   "outputs": [],
   "source": [
    "#### THINGS STILL LEFT TO DO\n",
    "#  indexをrankに変える\n",
    "# index=0を排除する\n",
    "# column名の順番を変える\n",
    "# priceの金額を数値だけにする\n",
    "# shippingの項目を変更する\n",
    "# returnの項目をNanかFreeにする\n",
    "# \n",
    "#\n",
    "# 全て完了したら、一つの関数にする　（keywordのlistを作って、）\n",
    "\n"
   ]
  },
  {
   "cell_type": "code",
   "execution_count": null,
   "metadata": {},
   "outputs": [],
   "source": [
    "#### メモ\n",
    "# これを使うことによって、ebayで好きなものを条件を入力してみることができる\n",
    "# 分析（どれくらいfree shippingがあるか）\n",
    "    # conditionの割合\n",
    "    # returnの割合\n",
    "    # ある特定の検索ワードに対して、どの商品名やキャラクター名が多いのか"
   ]
  },
  {
   "cell_type": "code",
   "execution_count": null,
   "metadata": {},
   "outputs": [],
   "source": []
  },
  {
   "cell_type": "code",
   "execution_count": null,
   "metadata": {},
   "outputs": [],
   "source": []
  },
  {
   "cell_type": "code",
   "execution_count": null,
   "metadata": {},
   "outputs": [],
   "source": []
  },
  {
   "cell_type": "code",
   "execution_count": null,
   "metadata": {},
   "outputs": [],
   "source": []
  },
  {
   "cell_type": "code",
   "execution_count": null,
   "metadata": {},
   "outputs": [],
   "source": []
  },
  {
   "cell_type": "code",
   "execution_count": null,
   "metadata": {},
   "outputs": [],
   "source": []
  },
  {
   "cell_type": "code",
   "execution_count": null,
   "metadata": {},
   "outputs": [],
   "source": []
  },
  {
   "cell_type": "markdown",
   "metadata": {},
   "source": [
    "## STEP X\n",
    "#### After making the complete table, import it into a database using sqlite"
   ]
  },
  {
   "cell_type": "code",
   "execution_count": null,
   "metadata": {},
   "outputs": [],
   "source": [
    "## after making the complete table, import it into a database using sqlite\n",
    "\n",
    "conn = sqlite3.connect(\"SEO_taisaku\")\n",
    "df1.to_sql('affi_links', conn, if_exists = 'append', index = None)\n",
    "conn.closer()\n",
    "\n",
    "\n",
    "conn = sqlite3.connect(\"SEO_taisaku\")\n",
    "\n",
    "first = pd.read_sql('''\n",
    "        SELECT\n",
    "            rank,\n",
    "            word,\n",
    "            min(掲載順位) as afi_rank,\n",
    "            url\n",
    "        FROM\n",
    "            affi_links\n",
    "        WHERE\n",
    "            company_name = \"bitFlyer\"\n",
    "        GROUP BY\n",
    "            url,\n",
    "            rank,\n",
    "            word\n",
    "        ORDER BY\n",
    "            word,\n",
    "            rank''', con = conn)\n",
    "conn.closer()"
   ]
  }
 ],
 "metadata": {
  "interpreter": {
   "hash": "038949c7f714f237d8ac1175e81231ae3e64efbc7dc8a77ac513cf71a3e91036"
  },
  "kernelspec": {
   "display_name": "Python 3",
   "language": "python",
   "name": "python3"
  },
  "language_info": {
   "codemirror_mode": {
    "name": "ipython",
    "version": 3
   },
   "file_extension": ".py",
   "mimetype": "text/x-python",
   "name": "python",
   "nbconvert_exporter": "python",
   "pygments_lexer": "ipython3",
   "version": "3.7.3"
  }
 },
 "nbformat": 4,
 "nbformat_minor": 2
}
