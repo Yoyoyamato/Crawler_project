{
 "cells": [
  {
   "cell_type": "markdown",
   "metadata": {},
   "source": [
    "## Web Crawler to SQLite3 on eBay"
   ]
  },
  {
   "cell_type": "markdown",
   "metadata": {},
   "source": [
    "### About this project\n",
    "- This project is mix of using web-crawling, data cleaning, and storing data into a database\n",
    "- Here, I will be using the following libraries:\n",
    "    - pandas\n",
    "    - re\n",
    "    - beautifulsoup\n",
    "    - requests\n",
    "    - sqlite3\n",
    "- I will also be commenting on places where you can  change the variables to adjust to your needs\n",
    "\n",
    "#### Steps\n",
    "- Create a funtions that stores your \"keyword\" (item you want on eBay)\n",
    "- Use the search engine on ebay website to search your \"keyword\"\n",
    "    - get the first n pages\n",
    "- Extract the items' information\n",
    "    - title of the item\n",
    "    - price\n",
    "    - condition \n",
    "    - shipping information\n",
    "    - returning policy\n",
    "\n",
    "|keyword|rank|item_title|price|condition|shipping_info|return|\n",
    "|:--|:--|:--|:--|:--|:--|:--|\n",
    "|starwars|1||The Black Series Princess|9.99|brand new|free|null|\n",
    "|starwars|2|Luke Skywalker & Ysalamiri |19.99|brand new|free|free|\n",
    "|starwars|3|The Black Series Luke Skywalker|25.99|brand new|5.99|null|\n",
    "|...|...|...|...|...|...|...|\n",
    "|...|...|...|...|...|...|...|\n",
    "|lego|1|100p lego |19.99|pre-owned|free|null|\n",
    "\n",
    "- Store the data above into a database using SQLite3\n",
    "    - write SQL to analyze the data"
   ]
  },
  {
   "cell_type": "markdown",
   "metadata": {},
   "source": [
    "## All the importing libraries"
   ]
  },
  {
   "cell_type": "code",
   "execution_count": 203,
   "metadata": {},
   "outputs": [],
   "source": [
    "import numpy as np\n",
    "import pandas as pd\n",
    "from bs4 import BeautifulSoup\n",
    "import requests\n",
    "import sqlite3\n",
    "import re\n",
    "import warnings\n",
    "warnings.filterwarnings('ignore')"
   ]
  },
  {
   "cell_type": "markdown",
   "metadata": {},
   "source": [
    "## STEP 1\n",
    "#### Making a list of keywords"
   ]
  },
  {
   "cell_type": "code",
   "execution_count": 10,
   "metadata": {},
   "outputs": [
    {
     "name": "stdout",
     "output_type": "stream",
     "text": [
      "Type in words that you want to search: Type in words that you want\n"
     ]
    }
   ],
   "source": [
    "keyword = input('Type in words that you want to search: ')\n",
    "keys = keyword.split(' ')"
   ]
  },
  {
   "cell_type": "code",
   "execution_count": 11,
   "metadata": {},
   "outputs": [
    {
     "data": {
      "text/plain": [
       "['Type', 'in', 'words', 'that', 'you', 'want']"
      ]
     },
     "execution_count": 11,
     "metadata": {},
     "output_type": "execute_result"
    }
   ],
   "source": [
    "keys"
   ]
  },
  {
   "cell_type": "markdown",
   "metadata": {},
   "source": [
    "## STEP 2\n",
    "#### Create a web crawler on Yahoo search engine to extract information"
   ]
  },
  {
   "cell_type": "code",
   "execution_count": 213,
   "metadata": {},
   "outputs": [],
   "source": [
    "\n",
    "keywords = [\"starwars\", \"lego\"]\n",
    "\n",
    "title_box = []\n",
    "price_box = []\n",
    "condition_box = []\n",
    "shipping_box = []\n",
    "return_box = []\n",
    "\n",
    "for k in keywords:\n",
    "    for pn in range(1, 4):\n",
    "        URL = 'https://www.ebay.com/sch/i.html?_from=R40&_nkw={0}&_pgn={1}'.format(k,pn)\n",
    "        res = requests.get(URL)\n",
    "        if res.status_code != 200:\n",
    "            continue\n",
    "        res.coding = 'utf-8'\n",
    "        soup = BeautifulSoup(res.text, 'html.parser')\n",
    "        elms = soup.find_all('div', {'class': 's-item__info clearfix'})\n",
    "        for i, elm in enumerate(elms):\n",
    "            title = elm.find_all('h3', {'class': 's-item__title'})[0].get_text()\n",
    "            title_box.append({'keyword': k, 'page': pn, 'index': i, 'title': title})\n",
    "            try:\n",
    "                price = elm.find_all('span', {'class': 's-item__price'})[0].get_text()\n",
    "            except:\n",
    "                continue\n",
    "            price_box.append({'keyword': k, 'page': pn, 'index': i, 'price': price})\n",
    "            try:\n",
    "                cond = elm.find_all('span', {'class': 'SECONDARY_INFO'})[0].get_text()\n",
    "            except:\n",
    "                continue\n",
    "            condition_box.append({'keyword': k, 'page': pn, 'index': i, 'condition': cond})\n",
    "            try:\n",
    "                ship = elm.find_all('span', {'class': 's-item__shipping s-item__logisticsCost'})[0].get_text()\n",
    "            except:\n",
    "                continue\n",
    "            shipping_box.append({'keyword': k, 'page': pn, 'index': i, 'shipping': ship})\n",
    "            try:\n",
    "                r = elm.find_all('span', {'class': 's-item__free-returns s-item__freeReturnsNoFee'})[0].get_text()\n",
    "            except:\n",
    "                continue\n",
    "            return_box.append({'keyword': k, 'page': pn, 'index': i, 'return': r})\n",
    "            "
   ]
  },
  {
   "cell_type": "markdown",
   "metadata": {},
   "source": [
    "## STEP 3\n",
    "#### From the dictionaries we made from above, store it in a data frame"
   ]
  },
  {
   "cell_type": "code",
   "execution_count": 214,
   "metadata": {},
   "outputs": [],
   "source": [
    "# functions for all 5 description (columns or features)\n",
    "def todf(x):\n",
    "    df = pd.DataFrame.from_dict(x[0], orient = 'index').T\n",
    "    for k in range(1, len(x)):\n",
    "        df = df.append(x[k], ignore_index = True)\n",
    "    return df"
   ]
  },
  {
   "cell_type": "code",
   "execution_count": 215,
   "metadata": {},
   "outputs": [],
   "source": [
    "title_df = todf(title_box)\n",
    "price_df = todf(price_box)\n",
    "cond_df = todf(condition_box)\n",
    "ship_df = todf(shipping_box)\n",
    "r_df = todf(return_box)\n",
    "DF = pd.merge(title_df, price_df, on=['keyword', 'page', 'index'], how='left')\n",
    "DF = pd.merge(DF, cond_df, on=['keyword', 'page', 'index'], how='left')\n",
    "DF = pd.merge(DF, ship_df, on=['keyword', 'page', 'index'], how='left')\n",
    "DF = pd.merge(DF, r_df, on=['keyword', 'page', 'index'], how='left')"
   ]
  },
  {
   "cell_type": "code",
   "execution_count": 216,
   "metadata": {},
   "outputs": [],
   "source": [
    "#### THINGS STILL LEFT TO DO\n",
    "# Add more keywords and make a longer dataframe\n",
    "#\n",
    "# 全て完了したら、一つの関数にする　（keywordのlistを作って、）\n",
    "\n"
   ]
  },
  {
   "cell_type": "code",
   "execution_count": 217,
   "metadata": {},
   "outputs": [],
   "source": [
    "# In the price column, takeaway the $ and  if there is a range of values, take the average\n",
    "def price_norm(x):\n",
    "    x = x.replace('$', '')\n",
    "    if 'to' in x:\n",
    "        f = x.split(' to ')[0]\n",
    "        s = x.split(' to ')[1]\n",
    "        ans = (float(f) + float(s))/2\n",
    "        return ans\n",
    "    return float(x)\n",
    "\n",
    "# In the shipping column, cahnge it to the following: Free shipping = free, Nan = Nan, +$7.75 shipping = 7.75\n",
    "def ship_norm(y):\n",
    "    y = str(y).replace(' ', '')\n",
    "    if 'Free' in y:\n",
    "        return 'free'\n",
    "    elif '+$' in y:\n",
    "        y = y.replace('+$', '').replace('shipping', '')\n",
    "        return float(y)\n",
    "    else:\n",
    "        return y\n",
    "\n",
    "# In the shipping column, cahnge it to the following: Free shipping = free, Nan = Nan, +$7.75 shipping = 7.75\n",
    "def return_norm(z):\n",
    "    if 'Free' in str(z):\n",
    "        return 'free'\n",
    "    else:\n",
    "        return z\n"
   ]
  },
  {
   "cell_type": "code",
   "execution_count": 218,
   "metadata": {},
   "outputs": [],
   "source": [
    "test = DF"
   ]
  },
  {
   "cell_type": "code",
   "execution_count": 219,
   "metadata": {},
   "outputs": [
    {
     "data": {
      "text/html": [
       "<div>\n",
       "<style scoped>\n",
       "    .dataframe tbody tr th:only-of-type {\n",
       "        vertical-align: middle;\n",
       "    }\n",
       "\n",
       "    .dataframe tbody tr th {\n",
       "        vertical-align: top;\n",
       "    }\n",
       "\n",
       "    .dataframe thead th {\n",
       "        text-align: right;\n",
       "    }\n",
       "</style>\n",
       "<table border=\"1\" class=\"dataframe\">\n",
       "  <thead>\n",
       "    <tr style=\"text-align: right;\">\n",
       "      <th></th>\n",
       "      <th>keyword</th>\n",
       "      <th>Rank</th>\n",
       "      <th>title</th>\n",
       "      <th>Price</th>\n",
       "      <th>Shipping</th>\n",
       "      <th>Return</th>\n",
       "    </tr>\n",
       "  </thead>\n",
       "  <tbody>\n",
       "    <tr>\n",
       "      <th>1</th>\n",
       "      <td>starwars</td>\n",
       "      <td>1</td>\n",
       "      <td>Star Wars The Black Series Princess Leia Organ...</td>\n",
       "      <td>9.99</td>\n",
       "      <td>free</td>\n",
       "      <td>NaN</td>\n",
       "    </tr>\n",
       "    <tr>\n",
       "      <th>2</th>\n",
       "      <td>starwars</td>\n",
       "      <td>2</td>\n",
       "      <td>New ListingStar Wars Stan Solo Custom Black De...</td>\n",
       "      <td>43.00</td>\n",
       "      <td>4.0</td>\n",
       "      <td>NaN</td>\n",
       "    </tr>\n",
       "    <tr>\n",
       "      <th>3</th>\n",
       "      <td>starwars</td>\n",
       "      <td>3</td>\n",
       "      <td>Star Wars The Black Series Bo-Katan Kryze 6-in...</td>\n",
       "      <td>17.99</td>\n",
       "      <td>nan</td>\n",
       "      <td>NaN</td>\n",
       "    </tr>\n",
       "    <tr>\n",
       "      <th>4</th>\n",
       "      <td>starwars</td>\n",
       "      <td>4</td>\n",
       "      <td>Star Wars TECH The Black Series 6 Inch Action ...</td>\n",
       "      <td>44.99</td>\n",
       "      <td>free</td>\n",
       "      <td>NaN</td>\n",
       "    </tr>\n",
       "    <tr>\n",
       "      <th>5</th>\n",
       "      <td>starwars</td>\n",
       "      <td>5</td>\n",
       "      <td>Star Wars The Black Series Luke Skywalker (Dag...</td>\n",
       "      <td>15.99</td>\n",
       "      <td>free</td>\n",
       "      <td>NaN</td>\n",
       "    </tr>\n",
       "    <tr>\n",
       "      <th>...</th>\n",
       "      <td>...</td>\n",
       "      <td>...</td>\n",
       "      <td>...</td>\n",
       "      <td>...</td>\n",
       "      <td>...</td>\n",
       "      <td>...</td>\n",
       "    </tr>\n",
       "    <tr>\n",
       "      <th>391</th>\n",
       "      <td>lego</td>\n",
       "      <td>391</td>\n",
       "      <td>LEGO Series 21 Minifigures Beekeeper Brand New...</td>\n",
       "      <td>8.99</td>\n",
       "      <td>free</td>\n",
       "      <td>NaN</td>\n",
       "    </tr>\n",
       "    <tr>\n",
       "      <th>392</th>\n",
       "      <td>lego</td>\n",
       "      <td>392</td>\n",
       "      <td>New ListingLEGO Creator Mini Gingerbread House...</td>\n",
       "      <td>34.99</td>\n",
       "      <td>11.95</td>\n",
       "      <td>NaN</td>\n",
       "    </tr>\n",
       "    <tr>\n",
       "      <th>393</th>\n",
       "      <td>lego</td>\n",
       "      <td>393</td>\n",
       "      <td>New ListingLego Hero Factory Voltix 6283</td>\n",
       "      <td>0.99</td>\n",
       "      <td>free</td>\n",
       "      <td>NaN</td>\n",
       "    </tr>\n",
       "    <tr>\n",
       "      <th>394</th>\n",
       "      <td>lego</td>\n",
       "      <td>394</td>\n",
       "      <td>LEGO 40461 Tulips 111pcs New</td>\n",
       "      <td>17.99</td>\n",
       "      <td>free</td>\n",
       "      <td>free</td>\n",
       "    </tr>\n",
       "    <tr>\n",
       "      <th>395</th>\n",
       "      <td>lego</td>\n",
       "      <td>395</td>\n",
       "      <td>Lego City Stunt Team # 60255 ~ 62 Pieces</td>\n",
       "      <td>13.56</td>\n",
       "      <td>free</td>\n",
       "      <td>free</td>\n",
       "    </tr>\n",
       "  </tbody>\n",
       "</table>\n",
       "<p>395 rows × 6 columns</p>\n",
       "</div>"
      ],
      "text/plain": [
       "      keyword  Rank                                              title  Price  \\\n",
       "1    starwars     1  Star Wars The Black Series Princess Leia Organ...   9.99   \n",
       "2    starwars     2  New ListingStar Wars Stan Solo Custom Black De...  43.00   \n",
       "3    starwars     3  Star Wars The Black Series Bo-Katan Kryze 6-in...  17.99   \n",
       "4    starwars     4  Star Wars TECH The Black Series 6 Inch Action ...  44.99   \n",
       "5    starwars     5  Star Wars The Black Series Luke Skywalker (Dag...  15.99   \n",
       "..        ...   ...                                                ...    ...   \n",
       "391      lego   391  LEGO Series 21 Minifigures Beekeeper Brand New...   8.99   \n",
       "392      lego   392  New ListingLEGO Creator Mini Gingerbread House...  34.99   \n",
       "393      lego   393           New ListingLego Hero Factory Voltix 6283   0.99   \n",
       "394      lego   394                       LEGO 40461 Tulips 111pcs New  17.99   \n",
       "395      lego   395           Lego City Stunt Team # 60255 ~ 62 Pieces  13.56   \n",
       "\n",
       "    Shipping Return  \n",
       "1       free    NaN  \n",
       "2        4.0    NaN  \n",
       "3        nan    NaN  \n",
       "4       free    NaN  \n",
       "5       free    NaN  \n",
       "..       ...    ...  \n",
       "391     free    NaN  \n",
       "392    11.95    NaN  \n",
       "393     free    NaN  \n",
       "394     free   free  \n",
       "395     free   free  \n",
       "\n",
       "[395 rows x 6 columns]"
      ]
     },
     "execution_count": 219,
     "metadata": {},
     "output_type": "execute_result"
    }
   ],
   "source": [
    "# just drop the Nan in price column\n",
    "test  = test[test['price'].notna()]\n",
    "\n",
    "# creating a new index from 1 to the length of the current dataframe\n",
    "test.index = np.arange(1, len(test)+1)\n",
    "\n",
    "# clean the price, shipping, and return column\n",
    "test['Price'] = test.price.apply(lambda x: price_norm(x))\n",
    "test['Shipping'] = test.shipping.apply(lambda y : ship_norm(y))\n",
    "test['Return'] = test['return'].apply(lambda z : return_norm(z))\n",
    "\n",
    "# make the index to rank column\n",
    "test['Rank'] = test.index\n",
    "\n",
    "# drop and reorder the columns\n",
    "test = test.drop(columns = ['page', 'index', 'price', 'condition', 'shipping', 'return'])\n",
    "test = test.reindex(columns=['keyword','Rank', 'title', 'Price', 'Shipping', 'Return'])\n",
    "test"
   ]
  },
  {
   "cell_type": "code",
   "execution_count": 222,
   "metadata": {},
   "outputs": [
    {
     "data": {
      "text/plain": [
       "<matplotlib.axes._subplots.AxesSubplot at 0x10c220320>"
      ]
     },
     "execution_count": 222,
     "metadata": {},
     "output_type": "execute_result"
    },
    {
     "data": {
      "image/png": "[encoded data removed]",
      "text/plain": [
       "<Figure size 432x288 with 1 Axes>"
      ]
     },
     "metadata": {
      "needs_background": "light"
     },
     "output_type": "display_data"
    }
   ],
   "source": [
    "test.Price.plot()"
   ]
  },
  {
   "cell_type": "code",
   "execution_count": null,
   "metadata": {},
   "outputs": [],
   "source": []
  },
  {
   "cell_type": "code",
   "execution_count": null,
   "metadata": {},
   "outputs": [],
   "source": []
  },
  {
   "cell_type": "code",
   "execution_count": null,
   "metadata": {},
   "outputs": [],
   "source": []
  },
  {
   "cell_type": "code",
   "execution_count": null,
   "metadata": {},
   "outputs": [],
   "source": []
  },
  {
   "cell_type": "code",
   "execution_count": null,
   "metadata": {},
   "outputs": [],
   "source": []
  },
  {
   "cell_type": "markdown",
   "metadata": {},
   "source": [
    "## STEP X\n",
    "#### After making the complete table, import it into a database using sqlite"
   ]
  },
  {
   "cell_type": "code",
   "execution_count": null,
   "metadata": {},
   "outputs": [],
   "source": [
    "#### メモ\n",
    "# これを使うことによって、ebayで好きなものを条件を入力してみることができる\n",
    "# 分析（どれくらいfree shippingがあるか）\n",
    "    # conditionの割合\n",
    "    # returnの割合\n",
    "    # ある特定の検索ワードに対して、どの商品名やキャラクター名が多いのか"
   ]
  },
  {
   "cell_type": "code",
   "execution_count": null,
   "metadata": {},
   "outputs": [],
   "source": [
    "\n",
    "conn = sqlite3.connect(\"SEO_taisaku\")\n",
    "df1.to_sql('affi_links', conn, if_exists = 'append', index = None)\n",
    "conn.closer()\n",
    "\n",
    "\n",
    "conn = sqlite3.connect(\"SEO_taisaku\")\n",
    "\n",
    "first = pd.read_sql('''\n",
    "        SELECT\n",
    "            rank,\n",
    "            word,\n",
    "            min(掲載順位) as afi_rank,\n",
    "            url\n",
    "        FROM\n",
    "            affi_links\n",
    "        WHERE\n",
    "            company_name = \"bitFlyer\"\n",
    "        GROUP BY\n",
    "            url,\n",
    "            rank,\n",
    "            word\n",
    "        ORDER BY\n",
    "            word,\n",
    "            rank''', con = conn)\n",
    "conn.closer()"
   ]
  }
 ],
 "metadata": {
  "interpreter": {
   "hash": "038949c7f714f237d8ac1175e81231ae3e64efbc7dc8a77ac513cf71a3e91036"
  },
  "kernelspec": {
   "display_name": "Python 3",
   "language": "python",
   "name": "python3"
  },
  "language_info": {
   "codemirror_mode": {
    "name": "ipython",
    "version": 3
   },
   "file_extension": ".py",
   "mimetype": "text/x-python",
   "name": "python",
   "nbconvert_exporter": "python",
   "pygments_lexer": "ipython3",
   "version": "3.7.3"
  }
 },
 "nbformat": 4,
 "nbformat_minor": 2
}
